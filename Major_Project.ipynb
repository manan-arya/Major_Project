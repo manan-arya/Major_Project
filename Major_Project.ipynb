{
  "nbformat": 4,
  "nbformat_minor": 0,
  "metadata": {
    "colab": {
      "name": "Major_Project.ipynb",
      "provenance": [],
      "collapsed_sections": [],
      "include_colab_link": true
    },
    "kernelspec": {
      "name": "python3",
      "display_name": "Python 3"
    },
    "accelerator": "GPU"
  },
  "cells": [
    {
      "cell_type": "markdown",
      "metadata": {
        "id": "view-in-github",
        "colab_type": "text"
      },
      "source": [
        "<a href=\"https://colab.research.google.com/github/manan-arya/Major_Project/blob/Additional_Work/Major_Project.ipynb\" target=\"_parent\"><img src=\"https://colab.research.google.com/assets/colab-badge.svg\" alt=\"Open In Colab\"/></a>"
      ]
    },
    {
      "cell_type": "code",
      "metadata": {
        "id": "oucO9xUK-4TZ",
        "colab_type": "code",
        "colab": {}
      },
      "source": [
        "import pandas as pd\n",
        "import numpy as np\n",
        "from sklearn.model_selection import cross_val_score\n",
        "import random\n",
        "import matplotlib.pyplot as plt"
      ],
      "execution_count": 0,
      "outputs": []
    },
    {
      "cell_type": "code",
      "metadata": {
        "id": "4ncydUjIN76X",
        "colab_type": "code",
        "colab": {}
      },
      "source": [
        "url = \"https://raw.githubusercontent.com/saranshtaneja/genetic_major/master/fb_dataset.csv\""
      ],
      "execution_count": 0,
      "outputs": []
    },
    {
      "cell_type": "code",
      "metadata": {
        "id": "uwF-yud__Sls",
        "colab_type": "code",
        "colab": {}
      },
      "source": [
        "data = pd.read_csv(url)"
      ],
      "execution_count": 0,
      "outputs": []
    },
    {
      "cell_type": "code",
      "metadata": {
        "id": "Ic9tTAcQ_elA",
        "colab_type": "code",
        "outputId": "33ef5c93-40e7-481e-d835-cf3c1579dfbd",
        "colab": {
          "base_uri": "https://localhost:8080/",
          "height": 439
        }
      },
      "source": [
        "data"
      ],
      "execution_count": 116,
      "outputs": [
        {
          "output_type": "execute_result",
          "data": {
            "text/html": [
              "<div>\n",
              "<style scoped>\n",
              "    .dataframe tbody tr th:only-of-type {\n",
              "        vertical-align: middle;\n",
              "    }\n",
              "\n",
              "    .dataframe tbody tr th {\n",
              "        vertical-align: top;\n",
              "    }\n",
              "\n",
              "    .dataframe thead th {\n",
              "        text-align: right;\n",
              "    }\n",
              "</style>\n",
              "<table border=\"1\" class=\"dataframe\">\n",
              "  <thead>\n",
              "    <tr style=\"text-align: right;\">\n",
              "      <th></th>\n",
              "      <th>facebook_post_id</th>\n",
              "      <th>dominant_color.histogram[0]</th>\n",
              "      <th>dominant_color.histogram[1]</th>\n",
              "      <th>dominant_color.histogram[2]</th>\n",
              "      <th>dominant_color.histogram[3]</th>\n",
              "      <th>dominant_color.histogram[4]</th>\n",
              "      <th>dominant_color.histogram[5]</th>\n",
              "      <th>dominant_color.histogram[6]</th>\n",
              "      <th>dominant_color.histogram[7]</th>\n",
              "      <th>dominant_color.histogram[8]</th>\n",
              "      <th>dominant_color.histogram[9]</th>\n",
              "      <th>dominant_color.value</th>\n",
              "      <th>face_detection.average_face2frame_ratio</th>\n",
              "      <th>face_detection.average_face_count_per_frame</th>\n",
              "      <th>face_detection.average_face_present</th>\n",
              "      <th>general.duration</th>\n",
              "      <th>general.fps</th>\n",
              "      <th>general.frame_count</th>\n",
              "      <th>general.frame_size.height</th>\n",
              "      <th>general.frame_size.width</th>\n",
              "      <th>other.average_movie_speed</th>\n",
              "      <th>other.clutter_metric</th>\n",
              "      <th>rigidity.average_rigidity</th>\n",
              "      <th>shot_detection.average_shot_length</th>\n",
              "      <th>shot_detection.shots_count</th>\n",
              "      <th>shot_detection.transition_histogram[0]</th>\n",
              "      <th>shot_detection.transition_histogram[1]</th>\n",
              "      <th>text_detection.average_text2frame_ratio</th>\n",
              "      <th>text_detection.average_text_frames</th>\n",
              "      <th>title.sentiment</th>\n",
              "      <th>views.1</th>\n",
              "      <th>shares.1</th>\n",
              "      <th>comments.1</th>\n",
              "      <th>likes.1</th>\n",
              "      <th>views.2</th>\n",
              "      <th>shares.2</th>\n",
              "      <th>comments.2</th>\n",
              "      <th>likes.2</th>\n",
              "      <th>views.3</th>\n",
              "      <th>shares.3</th>\n",
              "      <th>...</th>\n",
              "      <th>views.159</th>\n",
              "      <th>shares.159</th>\n",
              "      <th>comments.159</th>\n",
              "      <th>likes.159</th>\n",
              "      <th>views.160</th>\n",
              "      <th>shares.160</th>\n",
              "      <th>comments.160</th>\n",
              "      <th>likes.160</th>\n",
              "      <th>views.161</th>\n",
              "      <th>shares.161</th>\n",
              "      <th>comments.161</th>\n",
              "      <th>likes.161</th>\n",
              "      <th>views.162</th>\n",
              "      <th>shares.162</th>\n",
              "      <th>comments.162</th>\n",
              "      <th>likes.162</th>\n",
              "      <th>views.163</th>\n",
              "      <th>shares.163</th>\n",
              "      <th>comments.163</th>\n",
              "      <th>likes.163</th>\n",
              "      <th>views.164</th>\n",
              "      <th>shares.164</th>\n",
              "      <th>comments.164</th>\n",
              "      <th>likes.164</th>\n",
              "      <th>views.165</th>\n",
              "      <th>shares.165</th>\n",
              "      <th>comments.165</th>\n",
              "      <th>likes.165</th>\n",
              "      <th>views.166</th>\n",
              "      <th>shares.166</th>\n",
              "      <th>comments.166</th>\n",
              "      <th>likes.166</th>\n",
              "      <th>views.167</th>\n",
              "      <th>shares.167</th>\n",
              "      <th>comments.167</th>\n",
              "      <th>likes.167</th>\n",
              "      <th>shares.168</th>\n",
              "      <th>comments.168</th>\n",
              "      <th>likes.168</th>\n",
              "      <th>views.168</th>\n",
              "    </tr>\n",
              "  </thead>\n",
              "  <tbody>\n",
              "    <tr>\n",
              "      <th>0</th>\n",
              "      <td>407570359384477_612049142269930</td>\n",
              "      <td>0.002330</td>\n",
              "      <td>0.285182</td>\n",
              "      <td>0.321528</td>\n",
              "      <td>0.191053</td>\n",
              "      <td>0.000000</td>\n",
              "      <td>0.000000</td>\n",
              "      <td>0.000000</td>\n",
              "      <td>0.007922</td>\n",
              "      <td>0.093197</td>\n",
              "      <td>0.098788</td>\n",
              "      <td>2</td>\n",
              "      <td>0.015108</td>\n",
              "      <td>0.251165</td>\n",
              "      <td>0.243243</td>\n",
              "      <td>85.840000</td>\n",
              "      <td>25</td>\n",
              "      <td>2146</td>\n",
              "      <td>224</td>\n",
              "      <td>400</td>\n",
              "      <td>1.680012</td>\n",
              "      <td>0.161410</td>\n",
              "      <td>0.212954</td>\n",
              "      <td>4.517895</td>\n",
              "      <td>19</td>\n",
              "      <td>1.000000</td>\n",
              "      <td>0.000000</td>\n",
              "      <td>0.054041</td>\n",
              "      <td>0.446412</td>\n",
              "      <td>4.651</td>\n",
              "      <td>21057</td>\n",
              "      <td>370</td>\n",
              "      <td>69</td>\n",
              "      <td>652</td>\n",
              "      <td>36707</td>\n",
              "      <td>619</td>\n",
              "      <td>105</td>\n",
              "      <td>1000</td>\n",
              "      <td>48639</td>\n",
              "      <td>796</td>\n",
              "      <td>...</td>\n",
              "      <td>350437</td>\n",
              "      <td>4913</td>\n",
              "      <td>376</td>\n",
              "      <td>4223</td>\n",
              "      <td>350504</td>\n",
              "      <td>4914</td>\n",
              "      <td>376</td>\n",
              "      <td>4223</td>\n",
              "      <td>350577</td>\n",
              "      <td>4915</td>\n",
              "      <td>376</td>\n",
              "      <td>4223</td>\n",
              "      <td>350642</td>\n",
              "      <td>4915</td>\n",
              "      <td>376</td>\n",
              "      <td>4223</td>\n",
              "      <td>350716</td>\n",
              "      <td>4916</td>\n",
              "      <td>376</td>\n",
              "      <td>4223</td>\n",
              "      <td>350785</td>\n",
              "      <td>4916</td>\n",
              "      <td>376</td>\n",
              "      <td>4223</td>\n",
              "      <td>350858</td>\n",
              "      <td>4916</td>\n",
              "      <td>376</td>\n",
              "      <td>4224</td>\n",
              "      <td>350942</td>\n",
              "      <td>4916</td>\n",
              "      <td>376</td>\n",
              "      <td>4225</td>\n",
              "      <td>351045</td>\n",
              "      <td>4916</td>\n",
              "      <td>376</td>\n",
              "      <td>4225</td>\n",
              "      <td>4916</td>\n",
              "      <td>376</td>\n",
              "      <td>4225</td>\n",
              "      <td>351137</td>\n",
              "    </tr>\n",
              "    <tr>\n",
              "      <th>1</th>\n",
              "      <td>407570359384477_612108412264003</td>\n",
              "      <td>0.005907</td>\n",
              "      <td>0.463291</td>\n",
              "      <td>0.059072</td>\n",
              "      <td>0.192405</td>\n",
              "      <td>0.000000</td>\n",
              "      <td>0.000000</td>\n",
              "      <td>0.000000</td>\n",
              "      <td>0.093671</td>\n",
              "      <td>0.157806</td>\n",
              "      <td>0.027848</td>\n",
              "      <td>1</td>\n",
              "      <td>0.009970</td>\n",
              "      <td>0.304641</td>\n",
              "      <td>0.098734</td>\n",
              "      <td>47.400000</td>\n",
              "      <td>25</td>\n",
              "      <td>1185</td>\n",
              "      <td>224</td>\n",
              "      <td>400</td>\n",
              "      <td>15.270662</td>\n",
              "      <td>0.106316</td>\n",
              "      <td>0.270886</td>\n",
              "      <td>3.950000</td>\n",
              "      <td>12</td>\n",
              "      <td>0.833333</td>\n",
              "      <td>0.166667</td>\n",
              "      <td>0.052529</td>\n",
              "      <td>0.451477</td>\n",
              "      <td>4.566</td>\n",
              "      <td>15618</td>\n",
              "      <td>168</td>\n",
              "      <td>27</td>\n",
              "      <td>475</td>\n",
              "      <td>22384</td>\n",
              "      <td>246</td>\n",
              "      <td>33</td>\n",
              "      <td>690</td>\n",
              "      <td>24171</td>\n",
              "      <td>292</td>\n",
              "      <td>...</td>\n",
              "      <td>87968</td>\n",
              "      <td>578</td>\n",
              "      <td>61</td>\n",
              "      <td>1617</td>\n",
              "      <td>87998</td>\n",
              "      <td>578</td>\n",
              "      <td>61</td>\n",
              "      <td>1617</td>\n",
              "      <td>88020</td>\n",
              "      <td>578</td>\n",
              "      <td>61</td>\n",
              "      <td>1617</td>\n",
              "      <td>88029</td>\n",
              "      <td>578</td>\n",
              "      <td>61</td>\n",
              "      <td>1617</td>\n",
              "      <td>88042</td>\n",
              "      <td>578</td>\n",
              "      <td>61</td>\n",
              "      <td>1617</td>\n",
              "      <td>88066</td>\n",
              "      <td>578</td>\n",
              "      <td>61</td>\n",
              "      <td>1617</td>\n",
              "      <td>88094</td>\n",
              "      <td>578</td>\n",
              "      <td>61</td>\n",
              "      <td>1617</td>\n",
              "      <td>88110</td>\n",
              "      <td>579</td>\n",
              "      <td>61</td>\n",
              "      <td>1617</td>\n",
              "      <td>88128</td>\n",
              "      <td>579</td>\n",
              "      <td>61</td>\n",
              "      <td>1617</td>\n",
              "      <td>579</td>\n",
              "      <td>61</td>\n",
              "      <td>1617</td>\n",
              "      <td>88149</td>\n",
              "    </tr>\n",
              "    <tr>\n",
              "      <th>2</th>\n",
              "      <td>407570359384477_612000682274776</td>\n",
              "      <td>0.000000</td>\n",
              "      <td>0.377131</td>\n",
              "      <td>0.072443</td>\n",
              "      <td>0.093750</td>\n",
              "      <td>0.000000</td>\n",
              "      <td>0.000000</td>\n",
              "      <td>0.000000</td>\n",
              "      <td>0.197443</td>\n",
              "      <td>0.125000</td>\n",
              "      <td>0.134233</td>\n",
              "      <td>1</td>\n",
              "      <td>0.014187</td>\n",
              "      <td>0.171165</td>\n",
              "      <td>0.171165</td>\n",
              "      <td>56.320000</td>\n",
              "      <td>25</td>\n",
              "      <td>1408</td>\n",
              "      <td>224</td>\n",
              "      <td>400</td>\n",
              "      <td>4.000194</td>\n",
              "      <td>0.188503</td>\n",
              "      <td>0.387074</td>\n",
              "      <td>4.693333</td>\n",
              "      <td>12</td>\n",
              "      <td>0.750000</td>\n",
              "      <td>0.250000</td>\n",
              "      <td>0.084811</td>\n",
              "      <td>0.714489</td>\n",
              "      <td>3.721</td>\n",
              "      <td>2</td>\n",
              "      <td>81</td>\n",
              "      <td>67</td>\n",
              "      <td>329</td>\n",
              "      <td>35031</td>\n",
              "      <td>109</td>\n",
              "      <td>83</td>\n",
              "      <td>437</td>\n",
              "      <td>41947</td>\n",
              "      <td>123</td>\n",
              "      <td>...</td>\n",
              "      <td>116446</td>\n",
              "      <td>329</td>\n",
              "      <td>170</td>\n",
              "      <td>1193</td>\n",
              "      <td>116454</td>\n",
              "      <td>329</td>\n",
              "      <td>170</td>\n",
              "      <td>1193</td>\n",
              "      <td>116462</td>\n",
              "      <td>329</td>\n",
              "      <td>170</td>\n",
              "      <td>1193</td>\n",
              "      <td>116479</td>\n",
              "      <td>329</td>\n",
              "      <td>170</td>\n",
              "      <td>1193</td>\n",
              "      <td>116504</td>\n",
              "      <td>329</td>\n",
              "      <td>170</td>\n",
              "      <td>1193</td>\n",
              "      <td>116521</td>\n",
              "      <td>329</td>\n",
              "      <td>170</td>\n",
              "      <td>1193</td>\n",
              "      <td>116545</td>\n",
              "      <td>329</td>\n",
              "      <td>170</td>\n",
              "      <td>1193</td>\n",
              "      <td>116570</td>\n",
              "      <td>329</td>\n",
              "      <td>170</td>\n",
              "      <td>1193</td>\n",
              "      <td>116582</td>\n",
              "      <td>329</td>\n",
              "      <td>170</td>\n",
              "      <td>1193</td>\n",
              "      <td>329</td>\n",
              "      <td>170</td>\n",
              "      <td>1193</td>\n",
              "      <td>116597</td>\n",
              "    </tr>\n",
              "    <tr>\n",
              "      <th>3</th>\n",
              "      <td>407570359384477_612254708916040</td>\n",
              "      <td>0.000000</td>\n",
              "      <td>0.592656</td>\n",
              "      <td>0.144475</td>\n",
              "      <td>0.079272</td>\n",
              "      <td>0.072066</td>\n",
              "      <td>0.012697</td>\n",
              "      <td>0.000000</td>\n",
              "      <td>0.097117</td>\n",
              "      <td>0.001716</td>\n",
              "      <td>0.000000</td>\n",
              "      <td>1</td>\n",
              "      <td>0.006673</td>\n",
              "      <td>0.067605</td>\n",
              "      <td>0.066575</td>\n",
              "      <td>116.560000</td>\n",
              "      <td>25</td>\n",
              "      <td>2914</td>\n",
              "      <td>224</td>\n",
              "      <td>400</td>\n",
              "      <td>5.159395</td>\n",
              "      <td>0.098545</td>\n",
              "      <td>0.355525</td>\n",
              "      <td>5.067826</td>\n",
              "      <td>23</td>\n",
              "      <td>0.739130</td>\n",
              "      <td>0.260870</td>\n",
              "      <td>0.035462</td>\n",
              "      <td>0.315717</td>\n",
              "      <td>3.851</td>\n",
              "      <td>89140</td>\n",
              "      <td>4407</td>\n",
              "      <td>235</td>\n",
              "      <td>3486</td>\n",
              "      <td>213383</td>\n",
              "      <td>9438</td>\n",
              "      <td>402</td>\n",
              "      <td>6044</td>\n",
              "      <td>347713</td>\n",
              "      <td>14571</td>\n",
              "      <td>...</td>\n",
              "      <td>18606897</td>\n",
              "      <td>464169</td>\n",
              "      <td>7616</td>\n",
              "      <td>121156</td>\n",
              "      <td>18613170</td>\n",
              "      <td>464233</td>\n",
              "      <td>7616</td>\n",
              "      <td>121198</td>\n",
              "      <td>18619570</td>\n",
              "      <td>464290</td>\n",
              "      <td>7619</td>\n",
              "      <td>121244</td>\n",
              "      <td>18626146</td>\n",
              "      <td>464343</td>\n",
              "      <td>7622</td>\n",
              "      <td>121288</td>\n",
              "      <td>18632836</td>\n",
              "      <td>464385</td>\n",
              "      <td>7624</td>\n",
              "      <td>121330</td>\n",
              "      <td>18638793</td>\n",
              "      <td>464418</td>\n",
              "      <td>7626</td>\n",
              "      <td>121367</td>\n",
              "      <td>18643654</td>\n",
              "      <td>464447</td>\n",
              "      <td>7627</td>\n",
              "      <td>121397</td>\n",
              "      <td>18647758</td>\n",
              "      <td>464489</td>\n",
              "      <td>7628</td>\n",
              "      <td>121419</td>\n",
              "      <td>18651565</td>\n",
              "      <td>464539</td>\n",
              "      <td>7631</td>\n",
              "      <td>121442</td>\n",
              "      <td>464591</td>\n",
              "      <td>7633</td>\n",
              "      <td>121472</td>\n",
              "      <td>18655415</td>\n",
              "    </tr>\n",
              "    <tr>\n",
              "      <th>4</th>\n",
              "      <td>407570359384477_612167392258105</td>\n",
              "      <td>0.000000</td>\n",
              "      <td>0.116180</td>\n",
              "      <td>0.436074</td>\n",
              "      <td>0.154377</td>\n",
              "      <td>0.000000</td>\n",
              "      <td>0.000000</td>\n",
              "      <td>0.000000</td>\n",
              "      <td>0.293369</td>\n",
              "      <td>0.000000</td>\n",
              "      <td>0.000000</td>\n",
              "      <td>2</td>\n",
              "      <td>0.008844</td>\n",
              "      <td>0.094430</td>\n",
              "      <td>0.094430</td>\n",
              "      <td>75.400000</td>\n",
              "      <td>25</td>\n",
              "      <td>1885</td>\n",
              "      <td>224</td>\n",
              "      <td>400</td>\n",
              "      <td>5.295101</td>\n",
              "      <td>0.109216</td>\n",
              "      <td>0.611141</td>\n",
              "      <td>4.712500</td>\n",
              "      <td>16</td>\n",
              "      <td>0.812500</td>\n",
              "      <td>0.187500</td>\n",
              "      <td>0.049729</td>\n",
              "      <td>0.327321</td>\n",
              "      <td>4.901</td>\n",
              "      <td>17304</td>\n",
              "      <td>240</td>\n",
              "      <td>127</td>\n",
              "      <td>233</td>\n",
              "      <td>26215</td>\n",
              "      <td>355</td>\n",
              "      <td>176</td>\n",
              "      <td>337</td>\n",
              "      <td>29539</td>\n",
              "      <td>438</td>\n",
              "      <td>...</td>\n",
              "      <td>432502</td>\n",
              "      <td>6536</td>\n",
              "      <td>1032</td>\n",
              "      <td>1513</td>\n",
              "      <td>432868</td>\n",
              "      <td>6541</td>\n",
              "      <td>1032</td>\n",
              "      <td>1514</td>\n",
              "      <td>433204</td>\n",
              "      <td>6543</td>\n",
              "      <td>1032</td>\n",
              "      <td>1515</td>\n",
              "      <td>433517</td>\n",
              "      <td>6548</td>\n",
              "      <td>1032</td>\n",
              "      <td>1515</td>\n",
              "      <td>433862</td>\n",
              "      <td>6556</td>\n",
              "      <td>1032</td>\n",
              "      <td>1516</td>\n",
              "      <td>434279</td>\n",
              "      <td>6565</td>\n",
              "      <td>1033</td>\n",
              "      <td>1517</td>\n",
              "      <td>434799</td>\n",
              "      <td>6573</td>\n",
              "      <td>1033</td>\n",
              "      <td>1517</td>\n",
              "      <td>435447</td>\n",
              "      <td>6581</td>\n",
              "      <td>1035</td>\n",
              "      <td>1517</td>\n",
              "      <td>436017</td>\n",
              "      <td>6589</td>\n",
              "      <td>1035</td>\n",
              "      <td>1517</td>\n",
              "      <td>6597</td>\n",
              "      <td>1035</td>\n",
              "      <td>1517</td>\n",
              "      <td>436438</td>\n",
              "    </tr>\n",
              "    <tr>\n",
              "      <th>...</th>\n",
              "      <td>...</td>\n",
              "      <td>...</td>\n",
              "      <td>...</td>\n",
              "      <td>...</td>\n",
              "      <td>...</td>\n",
              "      <td>...</td>\n",
              "      <td>...</td>\n",
              "      <td>...</td>\n",
              "      <td>...</td>\n",
              "      <td>...</td>\n",
              "      <td>...</td>\n",
              "      <td>...</td>\n",
              "      <td>...</td>\n",
              "      <td>...</td>\n",
              "      <td>...</td>\n",
              "      <td>...</td>\n",
              "      <td>...</td>\n",
              "      <td>...</td>\n",
              "      <td>...</td>\n",
              "      <td>...</td>\n",
              "      <td>...</td>\n",
              "      <td>...</td>\n",
              "      <td>...</td>\n",
              "      <td>...</td>\n",
              "      <td>...</td>\n",
              "      <td>...</td>\n",
              "      <td>...</td>\n",
              "      <td>...</td>\n",
              "      <td>...</td>\n",
              "      <td>...</td>\n",
              "      <td>...</td>\n",
              "      <td>...</td>\n",
              "      <td>...</td>\n",
              "      <td>...</td>\n",
              "      <td>...</td>\n",
              "      <td>...</td>\n",
              "      <td>...</td>\n",
              "      <td>...</td>\n",
              "      <td>...</td>\n",
              "      <td>...</td>\n",
              "      <td>...</td>\n",
              "      <td>...</td>\n",
              "      <td>...</td>\n",
              "      <td>...</td>\n",
              "      <td>...</td>\n",
              "      <td>...</td>\n",
              "      <td>...</td>\n",
              "      <td>...</td>\n",
              "      <td>...</td>\n",
              "      <td>...</td>\n",
              "      <td>...</td>\n",
              "      <td>...</td>\n",
              "      <td>...</td>\n",
              "      <td>...</td>\n",
              "      <td>...</td>\n",
              "      <td>...</td>\n",
              "      <td>...</td>\n",
              "      <td>...</td>\n",
              "      <td>...</td>\n",
              "      <td>...</td>\n",
              "      <td>...</td>\n",
              "      <td>...</td>\n",
              "      <td>...</td>\n",
              "      <td>...</td>\n",
              "      <td>...</td>\n",
              "      <td>...</td>\n",
              "      <td>...</td>\n",
              "      <td>...</td>\n",
              "      <td>...</td>\n",
              "      <td>...</td>\n",
              "      <td>...</td>\n",
              "      <td>...</td>\n",
              "      <td>...</td>\n",
              "      <td>...</td>\n",
              "      <td>...</td>\n",
              "      <td>...</td>\n",
              "      <td>...</td>\n",
              "      <td>...</td>\n",
              "      <td>...</td>\n",
              "      <td>...</td>\n",
              "      <td>...</td>\n",
              "    </tr>\n",
              "    <tr>\n",
              "      <th>1815</th>\n",
              "      <td>210277954204_10153191547364205</td>\n",
              "      <td>0.001443</td>\n",
              "      <td>0.107010</td>\n",
              "      <td>0.107611</td>\n",
              "      <td>0.088133</td>\n",
              "      <td>0.000120</td>\n",
              "      <td>0.000000</td>\n",
              "      <td>0.000000</td>\n",
              "      <td>0.000000</td>\n",
              "      <td>0.056631</td>\n",
              "      <td>0.639053</td>\n",
              "      <td>9</td>\n",
              "      <td>0.015620</td>\n",
              "      <td>0.447878</td>\n",
              "      <td>0.446315</td>\n",
              "      <td>286.793103</td>\n",
              "      <td>29</td>\n",
              "      <td>8317</td>\n",
              "      <td>224</td>\n",
              "      <td>400</td>\n",
              "      <td>0.884065</td>\n",
              "      <td>0.108540</td>\n",
              "      <td>0.653361</td>\n",
              "      <td>22.061008</td>\n",
              "      <td>13</td>\n",
              "      <td>0.846154</td>\n",
              "      <td>0.153846</td>\n",
              "      <td>0.019021</td>\n",
              "      <td>0.242756</td>\n",
              "      <td>4.698</td>\n",
              "      <td>2365</td>\n",
              "      <td>54</td>\n",
              "      <td>14</td>\n",
              "      <td>88</td>\n",
              "      <td>4844</td>\n",
              "      <td>82</td>\n",
              "      <td>18</td>\n",
              "      <td>137</td>\n",
              "      <td>6327</td>\n",
              "      <td>106</td>\n",
              "      <td>...</td>\n",
              "      <td>17037</td>\n",
              "      <td>242</td>\n",
              "      <td>45</td>\n",
              "      <td>351</td>\n",
              "      <td>17037</td>\n",
              "      <td>242</td>\n",
              "      <td>45</td>\n",
              "      <td>351</td>\n",
              "      <td>17037</td>\n",
              "      <td>242</td>\n",
              "      <td>45</td>\n",
              "      <td>351</td>\n",
              "      <td>17038</td>\n",
              "      <td>242</td>\n",
              "      <td>45</td>\n",
              "      <td>351</td>\n",
              "      <td>17039</td>\n",
              "      <td>242</td>\n",
              "      <td>45</td>\n",
              "      <td>351</td>\n",
              "      <td>17040</td>\n",
              "      <td>242</td>\n",
              "      <td>45</td>\n",
              "      <td>351</td>\n",
              "      <td>17040</td>\n",
              "      <td>242</td>\n",
              "      <td>45</td>\n",
              "      <td>351</td>\n",
              "      <td>17041</td>\n",
              "      <td>242</td>\n",
              "      <td>45</td>\n",
              "      <td>351</td>\n",
              "      <td>17043</td>\n",
              "      <td>242</td>\n",
              "      <td>45</td>\n",
              "      <td>351</td>\n",
              "      <td>242</td>\n",
              "      <td>45</td>\n",
              "      <td>351</td>\n",
              "      <td>17044</td>\n",
              "    </tr>\n",
              "    <tr>\n",
              "      <th>1816</th>\n",
              "      <td>210277954204_10153191554684205</td>\n",
              "      <td>0.000157</td>\n",
              "      <td>0.008956</td>\n",
              "      <td>0.154608</td>\n",
              "      <td>0.236704</td>\n",
              "      <td>0.367586</td>\n",
              "      <td>0.000000</td>\n",
              "      <td>0.000000</td>\n",
              "      <td>0.000000</td>\n",
              "      <td>0.025297</td>\n",
              "      <td>0.206693</td>\n",
              "      <td>4</td>\n",
              "      <td>0.009507</td>\n",
              "      <td>0.268914</td>\n",
              "      <td>0.268914</td>\n",
              "      <td>438.931034</td>\n",
              "      <td>29</td>\n",
              "      <td>12729</td>\n",
              "      <td>224</td>\n",
              "      <td>400</td>\n",
              "      <td>0.828587</td>\n",
              "      <td>0.137349</td>\n",
              "      <td>0.847671</td>\n",
              "      <td>20.901478</td>\n",
              "      <td>21</td>\n",
              "      <td>0.761905</td>\n",
              "      <td>0.238095</td>\n",
              "      <td>0.004168</td>\n",
              "      <td>0.036452</td>\n",
              "      <td>4.425</td>\n",
              "      <td>6627</td>\n",
              "      <td>52</td>\n",
              "      <td>26</td>\n",
              "      <td>85</td>\n",
              "      <td>12010</td>\n",
              "      <td>71</td>\n",
              "      <td>40</td>\n",
              "      <td>124</td>\n",
              "      <td>14570</td>\n",
              "      <td>82</td>\n",
              "      <td>...</td>\n",
              "      <td>68520</td>\n",
              "      <td>511</td>\n",
              "      <td>163</td>\n",
              "      <td>490</td>\n",
              "      <td>68531</td>\n",
              "      <td>511</td>\n",
              "      <td>163</td>\n",
              "      <td>490</td>\n",
              "      <td>68545</td>\n",
              "      <td>511</td>\n",
              "      <td>163</td>\n",
              "      <td>490</td>\n",
              "      <td>68557</td>\n",
              "      <td>511</td>\n",
              "      <td>163</td>\n",
              "      <td>491</td>\n",
              "      <td>68570</td>\n",
              "      <td>511</td>\n",
              "      <td>163</td>\n",
              "      <td>491</td>\n",
              "      <td>68589</td>\n",
              "      <td>511</td>\n",
              "      <td>163</td>\n",
              "      <td>491</td>\n",
              "      <td>68607</td>\n",
              "      <td>511</td>\n",
              "      <td>163</td>\n",
              "      <td>491</td>\n",
              "      <td>68614</td>\n",
              "      <td>511</td>\n",
              "      <td>163</td>\n",
              "      <td>491</td>\n",
              "      <td>68623</td>\n",
              "      <td>511</td>\n",
              "      <td>163</td>\n",
              "      <td>491</td>\n",
              "      <td>511</td>\n",
              "      <td>163</td>\n",
              "      <td>491</td>\n",
              "      <td>68636</td>\n",
              "    </tr>\n",
              "    <tr>\n",
              "      <th>1817</th>\n",
              "      <td>210277954204_10153191559204205</td>\n",
              "      <td>0.000625</td>\n",
              "      <td>0.020410</td>\n",
              "      <td>0.096741</td>\n",
              "      <td>0.114027</td>\n",
              "      <td>0.000417</td>\n",
              "      <td>0.000000</td>\n",
              "      <td>0.000000</td>\n",
              "      <td>0.000000</td>\n",
              "      <td>0.024367</td>\n",
              "      <td>0.743414</td>\n",
              "      <td>9</td>\n",
              "      <td>0.011690</td>\n",
              "      <td>0.307092</td>\n",
              "      <td>0.305842</td>\n",
              "      <td>331.137931</td>\n",
              "      <td>29</td>\n",
              "      <td>9603</td>\n",
              "      <td>224</td>\n",
              "      <td>400</td>\n",
              "      <td>0.780668</td>\n",
              "      <td>0.153232</td>\n",
              "      <td>0.814225</td>\n",
              "      <td>13.245517</td>\n",
              "      <td>25</td>\n",
              "      <td>0.920000</td>\n",
              "      <td>0.080000</td>\n",
              "      <td>0.013578</td>\n",
              "      <td>0.123191</td>\n",
              "      <td>4.351</td>\n",
              "      <td>2381</td>\n",
              "      <td>6</td>\n",
              "      <td>10</td>\n",
              "      <td>62</td>\n",
              "      <td>5327</td>\n",
              "      <td>9</td>\n",
              "      <td>11</td>\n",
              "      <td>85</td>\n",
              "      <td>6318</td>\n",
              "      <td>11</td>\n",
              "      <td>...</td>\n",
              "      <td>15205</td>\n",
              "      <td>21</td>\n",
              "      <td>29</td>\n",
              "      <td>169</td>\n",
              "      <td>15205</td>\n",
              "      <td>21</td>\n",
              "      <td>29</td>\n",
              "      <td>169</td>\n",
              "      <td>15207</td>\n",
              "      <td>21</td>\n",
              "      <td>29</td>\n",
              "      <td>169</td>\n",
              "      <td>15210</td>\n",
              "      <td>21</td>\n",
              "      <td>29</td>\n",
              "      <td>169</td>\n",
              "      <td>15211</td>\n",
              "      <td>21</td>\n",
              "      <td>29</td>\n",
              "      <td>169</td>\n",
              "      <td>15212</td>\n",
              "      <td>21</td>\n",
              "      <td>29</td>\n",
              "      <td>169</td>\n",
              "      <td>15215</td>\n",
              "      <td>21</td>\n",
              "      <td>29</td>\n",
              "      <td>169</td>\n",
              "      <td>15217</td>\n",
              "      <td>21</td>\n",
              "      <td>29</td>\n",
              "      <td>169</td>\n",
              "      <td>15217</td>\n",
              "      <td>21</td>\n",
              "      <td>29</td>\n",
              "      <td>169</td>\n",
              "      <td>21</td>\n",
              "      <td>29</td>\n",
              "      <td>169</td>\n",
              "      <td>15217</td>\n",
              "    </tr>\n",
              "    <tr>\n",
              "      <th>1818</th>\n",
              "      <td>210277954204_10153191565724205</td>\n",
              "      <td>0.005307</td>\n",
              "      <td>0.192839</td>\n",
              "      <td>0.001432</td>\n",
              "      <td>0.213901</td>\n",
              "      <td>0.172704</td>\n",
              "      <td>0.000084</td>\n",
              "      <td>0.000000</td>\n",
              "      <td>0.000000</td>\n",
              "      <td>0.032940</td>\n",
              "      <td>0.380792</td>\n",
              "      <td>9</td>\n",
              "      <td>0.014046</td>\n",
              "      <td>0.398062</td>\n",
              "      <td>0.397978</td>\n",
              "      <td>409.310345</td>\n",
              "      <td>29</td>\n",
              "      <td>11870</td>\n",
              "      <td>224</td>\n",
              "      <td>400</td>\n",
              "      <td>1.749854</td>\n",
              "      <td>0.132556</td>\n",
              "      <td>0.519292</td>\n",
              "      <td>14.114150</td>\n",
              "      <td>29</td>\n",
              "      <td>0.931034</td>\n",
              "      <td>0.068966</td>\n",
              "      <td>0.001668</td>\n",
              "      <td>0.067481</td>\n",
              "      <td>3.431</td>\n",
              "      <td>7955</td>\n",
              "      <td>27</td>\n",
              "      <td>29</td>\n",
              "      <td>77</td>\n",
              "      <td>13488</td>\n",
              "      <td>39</td>\n",
              "      <td>47</td>\n",
              "      <td>120</td>\n",
              "      <td>16619</td>\n",
              "      <td>45</td>\n",
              "      <td>...</td>\n",
              "      <td>54434</td>\n",
              "      <td>135</td>\n",
              "      <td>136</td>\n",
              "      <td>368</td>\n",
              "      <td>54441</td>\n",
              "      <td>135</td>\n",
              "      <td>136</td>\n",
              "      <td>368</td>\n",
              "      <td>54452</td>\n",
              "      <td>135</td>\n",
              "      <td>136</td>\n",
              "      <td>368</td>\n",
              "      <td>54469</td>\n",
              "      <td>135</td>\n",
              "      <td>136</td>\n",
              "      <td>368</td>\n",
              "      <td>54483</td>\n",
              "      <td>135</td>\n",
              "      <td>136</td>\n",
              "      <td>368</td>\n",
              "      <td>54488</td>\n",
              "      <td>135</td>\n",
              "      <td>136</td>\n",
              "      <td>368</td>\n",
              "      <td>54492</td>\n",
              "      <td>135</td>\n",
              "      <td>136</td>\n",
              "      <td>368</td>\n",
              "      <td>54503</td>\n",
              "      <td>135</td>\n",
              "      <td>136</td>\n",
              "      <td>368</td>\n",
              "      <td>54513</td>\n",
              "      <td>135</td>\n",
              "      <td>136</td>\n",
              "      <td>368</td>\n",
              "      <td>135</td>\n",
              "      <td>136</td>\n",
              "      <td>368</td>\n",
              "      <td>54518</td>\n",
              "    </tr>\n",
              "    <tr>\n",
              "      <th>1819</th>\n",
              "      <td>210277954204_10153191551594205</td>\n",
              "      <td>0.003012</td>\n",
              "      <td>0.006112</td>\n",
              "      <td>0.134367</td>\n",
              "      <td>0.277059</td>\n",
              "      <td>0.002834</td>\n",
              "      <td>0.000000</td>\n",
              "      <td>0.001506</td>\n",
              "      <td>0.088220</td>\n",
              "      <td>0.048096</td>\n",
              "      <td>0.438795</td>\n",
              "      <td>9</td>\n",
              "      <td>0.018865</td>\n",
              "      <td>0.501860</td>\n",
              "      <td>0.500443</td>\n",
              "      <td>389.310345</td>\n",
              "      <td>29</td>\n",
              "      <td>11290</td>\n",
              "      <td>224</td>\n",
              "      <td>400</td>\n",
              "      <td>2.335628</td>\n",
              "      <td>0.122905</td>\n",
              "      <td>0.716386</td>\n",
              "      <td>12.977011</td>\n",
              "      <td>30</td>\n",
              "      <td>0.766667</td>\n",
              "      <td>0.233333</td>\n",
              "      <td>0.003620</td>\n",
              "      <td>0.040390</td>\n",
              "      <td>4.078</td>\n",
              "      <td>2204</td>\n",
              "      <td>76</td>\n",
              "      <td>11</td>\n",
              "      <td>126</td>\n",
              "      <td>4365</td>\n",
              "      <td>109</td>\n",
              "      <td>15</td>\n",
              "      <td>182</td>\n",
              "      <td>5453</td>\n",
              "      <td>134</td>\n",
              "      <td>...</td>\n",
              "      <td>29754</td>\n",
              "      <td>638</td>\n",
              "      <td>49</td>\n",
              "      <td>775</td>\n",
              "      <td>29775</td>\n",
              "      <td>638</td>\n",
              "      <td>49</td>\n",
              "      <td>775</td>\n",
              "      <td>29792</td>\n",
              "      <td>638</td>\n",
              "      <td>49</td>\n",
              "      <td>775</td>\n",
              "      <td>29802</td>\n",
              "      <td>638</td>\n",
              "      <td>49</td>\n",
              "      <td>775</td>\n",
              "      <td>29810</td>\n",
              "      <td>638</td>\n",
              "      <td>49</td>\n",
              "      <td>775</td>\n",
              "      <td>29819</td>\n",
              "      <td>638</td>\n",
              "      <td>49</td>\n",
              "      <td>775</td>\n",
              "      <td>29827</td>\n",
              "      <td>638</td>\n",
              "      <td>49</td>\n",
              "      <td>775</td>\n",
              "      <td>29831</td>\n",
              "      <td>638</td>\n",
              "      <td>49</td>\n",
              "      <td>775</td>\n",
              "      <td>29836</td>\n",
              "      <td>638</td>\n",
              "      <td>49</td>\n",
              "      <td>775</td>\n",
              "      <td>638</td>\n",
              "      <td>49</td>\n",
              "      <td>775</td>\n",
              "      <td>29841</td>\n",
              "    </tr>\n",
              "  </tbody>\n",
              "</table>\n",
              "<p>1820 rows × 702 columns</p>\n",
              "</div>"
            ],
            "text/plain": [
              "                     facebook_post_id  ...  views.168\n",
              "0     407570359384477_612049142269930  ...     351137\n",
              "1     407570359384477_612108412264003  ...      88149\n",
              "2     407570359384477_612000682274776  ...     116597\n",
              "3     407570359384477_612254708916040  ...   18655415\n",
              "4     407570359384477_612167392258105  ...     436438\n",
              "...                               ...  ...        ...\n",
              "1815   210277954204_10153191547364205  ...      17044\n",
              "1816   210277954204_10153191554684205  ...      68636\n",
              "1817   210277954204_10153191559204205  ...      15217\n",
              "1818   210277954204_10153191565724205  ...      54518\n",
              "1819   210277954204_10153191551594205  ...      29841\n",
              "\n",
              "[1820 rows x 702 columns]"
            ]
          },
          "metadata": {
            "tags": []
          },
          "execution_count": 116
        }
      ]
    },
    {
      "cell_type": "code",
      "metadata": {
        "id": "7kBzBe3P25EF",
        "colab_type": "code",
        "colab": {}
      },
      "source": [
        "y_pso = data[\"views.168\"]"
      ],
      "execution_count": 0,
      "outputs": []
    },
    {
      "cell_type": "code",
      "metadata": {
        "id": "srEd40GY_ltq",
        "colab_type": "code",
        "colab": {}
      },
      "source": [
        "y_train = data.iloc[0:100,701].values"
      ],
      "execution_count": 0,
      "outputs": []
    },
    {
      "cell_type": "code",
      "metadata": {
        "id": "aJZxxfWFVNKK",
        "colab_type": "code",
        "outputId": "84887575-117a-44bb-9b17-bd5fc850ef36",
        "colab": {
          "base_uri": "https://localhost:8080/",
          "height": 306
        }
      },
      "source": [
        "y_train"
      ],
      "execution_count": 119,
      "outputs": [
        {
          "output_type": "execute_result",
          "data": {
            "text/plain": [
              "array([  351137,    88149,   116597, 18655415,   436438,   157322,\n",
              "         655080, 18545567,  2094083,   228012,   204031,   861457,\n",
              "         239391,    99903,  2401060,    84662,   101959,   166887,\n",
              "         921144,   482693,    68552,   940889,  3443341, 12534857,\n",
              "         271561,  5348076,   219110,   386750,   346060,   108110,\n",
              "         140379,  1459499,   145033,    91692,   238945,   127362,\n",
              "         182856,   171804,   136407,   178574,   196439,   221235,\n",
              "       12459800,   197053,   855608,   427615,   396986,   103368,\n",
              "        1026399,   167236,    93320,   115442,    82210,   504095,\n",
              "         101372,   875213,   152145,   287631,   160717,   153040,\n",
              "         482561,    73120,   218066,   453774,   498355,   226748,\n",
              "        1242092,   149005,   264851,   534427,   201941,   128636,\n",
              "         176513,   112050,   205503,   164595,   718629,   409014,\n",
              "         253287,   529824,  1043924,   115623,   145326,  1024423,\n",
              "         196642,   184262,   806253,    60457,   271048,   111120,\n",
              "         276477,   208605,    89715,   170937,   189395,    51089,\n",
              "         261087, 12877963,    86127,   483992])"
            ]
          },
          "metadata": {
            "tags": []
          },
          "execution_count": 119
        }
      ]
    },
    {
      "cell_type": "code",
      "metadata": {
        "id": "0mVvV1wx3tU5",
        "colab_type": "code",
        "colab": {}
      },
      "source": [
        "x_pso = data.drop(\"views.168\",axis=1)"
      ],
      "execution_count": 0,
      "outputs": []
    },
    {
      "cell_type": "code",
      "metadata": {
        "id": "y4-NY4JA_w0m",
        "colab_type": "code",
        "colab": {}
      },
      "source": [
        "x_train = data.iloc[0:100,1:701].values"
      ],
      "execution_count": 0,
      "outputs": []
    },
    {
      "cell_type": "code",
      "metadata": {
        "id": "8S3P5JjRFzgv",
        "colab_type": "code",
        "outputId": "c84c0056-36c4-4a66-e80c-fe57a0c0848f",
        "colab": {
          "base_uri": "https://localhost:8080/",
          "height": 238
        }
      },
      "source": [
        "x_train"
      ],
      "execution_count": 122,
      "outputs": [
        {
          "output_type": "execute_result",
          "data": {
            "text/plain": [
              "array([[2.32991600e-03, 2.85181733e-01, 3.21528425e-01, ...,\n",
              "        4.91600000e+03, 3.76000000e+02, 4.22500000e+03],\n",
              "       [5.90717300e-03, 4.63291139e-01, 5.90717300e-02, ...,\n",
              "        5.79000000e+02, 6.10000000e+01, 1.61700000e+03],\n",
              "       [0.00000000e+00, 3.77130682e-01, 7.24431820e-02, ...,\n",
              "        3.29000000e+02, 1.70000000e+02, 1.19300000e+03],\n",
              "       ...,\n",
              "       [0.00000000e+00, 3.53634578e-01, 4.09954158e-01, ...,\n",
              "        2.16911000e+05, 1.16270000e+04, 9.52820000e+04],\n",
              "       [0.00000000e+00, 2.63128176e-01, 4.81084133e-01, ...,\n",
              "        1.65000000e+02, 8.30000000e+01, 8.48000000e+02],\n",
              "       [4.83465500e-03, 2.09630632e-01, 7.49564881e-01, ...,\n",
              "        5.78900000e+03, 3.37000000e+02, 6.87300000e+03]])"
            ]
          },
          "metadata": {
            "tags": []
          },
          "execution_count": 122
        }
      ]
    },
    {
      "cell_type": "code",
      "metadata": {
        "id": "dd5MWjBY9ydV",
        "colab_type": "code",
        "colab": {}
      },
      "source": [
        "from sklearn.model_selection import GridSearchCV"
      ],
      "execution_count": 0,
      "outputs": []
    },
    {
      "cell_type": "code",
      "metadata": {
        "id": "JuQ4Q0BD9yrD",
        "colab_type": "code",
        "colab": {}
      },
      "source": [
        "parameters = {'epsilon':[0,2], 'C':[1, 1000]}"
      ],
      "execution_count": 0,
      "outputs": []
    },
    {
      "cell_type": "code",
      "metadata": {
        "id": "Ib9JA4HJauCE",
        "colab_type": "code",
        "colab": {}
      },
      "source": [
        "from sklearn.preprocessing import StandardScaler\n",
        "sc_x=StandardScaler()\n",
        "sc_y=StandardScaler()\n",
        "x=sc_x.fit_transform(x_train)\n",
        "y=sc_y.fit_transform(y_train.reshape(-1,1))"
      ],
      "execution_count": 0,
      "outputs": []
    },
    {
      "cell_type": "code",
      "metadata": {
        "id": "LaUynCqLTIWT",
        "colab_type": "code",
        "colab": {}
      },
      "source": [
        "y=y.ravel()"
      ],
      "execution_count": 0,
      "outputs": []
    },
    {
      "cell_type": "code",
      "metadata": {
        "id": "tRNwLf8WvqC6",
        "colab_type": "code",
        "outputId": "0bd2aa26-b08b-41c5-c2a1-de3634ca0176",
        "colab": {
          "base_uri": "https://localhost:8080/",
          "height": 34
        }
      },
      "source": [
        "y.shape"
      ],
      "execution_count": 127,
      "outputs": [
        {
          "output_type": "execute_result",
          "data": {
            "text/plain": [
              "(100,)"
            ]
          },
          "metadata": {
            "tags": []
          },
          "execution_count": 127
        }
      ]
    },
    {
      "cell_type": "code",
      "metadata": {
        "id": "zwXOQaMHT0vN",
        "colab_type": "code",
        "outputId": "4ef5f12c-35b0-44c9-e230-32aa324557e2",
        "colab": {
          "base_uri": "https://localhost:8080/",
          "height": 34
        }
      },
      "source": [
        "x.shape"
      ],
      "execution_count": 128,
      "outputs": [
        {
          "output_type": "execute_result",
          "data": {
            "text/plain": [
              "(100, 700)"
            ]
          },
          "metadata": {
            "tags": []
          },
          "execution_count": 128
        }
      ]
    },
    {
      "cell_type": "code",
      "metadata": {
        "id": "UsMLbbjDHh0y",
        "colab_type": "code",
        "colab": {}
      },
      "source": [
        "from sklearn.svm import SVR"
      ],
      "execution_count": 0,
      "outputs": []
    },
    {
      "cell_type": "code",
      "metadata": {
        "id": "D6jAz95iIHzc",
        "colab_type": "code",
        "colab": {}
      },
      "source": [
        "svr = SVR(kernel='rbf',C = 10000)"
      ],
      "execution_count": 0,
      "outputs": []
    },
    {
      "cell_type": "code",
      "metadata": {
        "colab_type": "code",
        "id": "jZ1rFQq-rVn6",
        "colab": {}
      },
      "source": [
        "clf = GridSearchCV(svr, parameters)"
      ],
      "execution_count": 0,
      "outputs": []
    },
    {
      "cell_type": "code",
      "metadata": {
        "id": "PxUC3r7aJrys",
        "colab_type": "code",
        "outputId": "4f6a9eb6-fe6b-454f-9bd9-2c5f66063425",
        "colab": {
          "base_uri": "https://localhost:8080/",
          "height": 170
        }
      },
      "source": [
        "clf.fit(x, y)\n",
        "GridSearchCV(estimator=svr,\n",
        "             param_grid={'C': [1, 10000], 'epsilon': [0,2]})"
      ],
      "execution_count": 132,
      "outputs": [
        {
          "output_type": "execute_result",
          "data": {
            "text/plain": [
              "GridSearchCV(cv=None, error_score=nan,\n",
              "             estimator=SVR(C=10000, cache_size=200, coef0=0.0, degree=3,\n",
              "                           epsilon=0.1, gamma='scale', kernel='rbf',\n",
              "                           max_iter=-1, shrinking=True, tol=0.001,\n",
              "                           verbose=False),\n",
              "             iid='deprecated', n_jobs=None,\n",
              "             param_grid={'C': [1, 10000], 'epsilon': [0, 2]},\n",
              "             pre_dispatch='2*n_jobs', refit=True, return_train_score=False,\n",
              "             scoring=None, verbose=0)"
            ]
          },
          "metadata": {
            "tags": []
          },
          "execution_count": 132
        }
      ]
    },
    {
      "cell_type": "code",
      "metadata": {
        "id": "u7OqE9mQJ8Dz",
        "colab_type": "code",
        "outputId": "524c93a7-e97d-4d3f-e2ba-67caceaa5f33",
        "colab": {
          "base_uri": "https://localhost:8080/",
          "height": 34
        }
      },
      "source": [
        "clf.best_params_"
      ],
      "execution_count": 133,
      "outputs": [
        {
          "output_type": "execute_result",
          "data": {
            "text/plain": [
              "{'C': 1000, 'epsilon': 0}"
            ]
          },
          "metadata": {
            "tags": []
          },
          "execution_count": 133
        }
      ]
    },
    {
      "cell_type": "code",
      "metadata": {
        "id": "VzstEvxWBogD",
        "colab_type": "code",
        "outputId": "504091f4-2ac5-446d-e64b-c75dc1ebc3b4",
        "colab": {
          "base_uri": "https://localhost:8080/",
          "height": 34
        }
      },
      "source": [
        "score = np.mean(cross_val_score(svr, x, y,  cv=5,  scoring=None))\n",
        "score"
      ],
      "execution_count": 134,
      "outputs": [
        {
          "output_type": "execute_result",
          "data": {
            "text/plain": [
              "0.7214387780291002"
            ]
          },
          "metadata": {
            "tags": []
          },
          "execution_count": 134
        }
      ]
    },
    {
      "cell_type": "code",
      "metadata": {
        "id": "snrFuYafBfGL",
        "colab_type": "code",
        "colab": {}
      },
      "source": [
        " class GeneticSelector :\n",
        "  \n",
        "  \n",
        "  def __init__(self, estimator, n_gen, size, n_best, n_rand, \n",
        "                 n_children, mutation_rate):\n",
        "    # Estimator \n",
        "    self.estimator = estimator\n",
        "    # Number of generations\n",
        "    self.n_gen = n_gen\n",
        "    # Number of chromosomes in population\n",
        "    self.size = size\n",
        "    # Number of best chromosomes to select\n",
        "    self.n_best = n_best\n",
        "    # Number of random chromosomes to select\n",
        "    self.n_rand = n_rand\n",
        "    # Number of children created during crossover\n",
        "    self.n_children = n_children\n",
        "    # Probablity of chromosome mutation\n",
        "    self.mutation_rate = mutation_rate\n",
        "    if int((self.n_best + self.n_rand) / 2) * self.n_children != self.size:\n",
        "      raise ValueError(\"The population size is not stable.\")\n",
        "  \n",
        "  \n",
        "  def initilize(self):\n",
        "    population = []\n",
        "    for i in range(self.size):\n",
        "      chromosome = np.ones(self.n_features, dtype=np.bool)\n",
        "      mask = np.random.rand(len(chromosome)) < 0.3 #The probability 0.3 is chosen arbitrarily, however it is suggested to avoid large probabilities. We would not like to create chromosomes with all variables excluded\n",
        "      chromosome[mask] = False\n",
        "      population.append(chromosome)\n",
        "    return population\n",
        "  \n",
        "  \n",
        "  def fitness(self, population):\n",
        "    X, y = self.dataset\n",
        "    scores = []\n",
        "    for chromosome in population:\n",
        "      score =-1* np.mean(cross_val_score(self.estimator, X[:,chromosome], y, \n",
        "                                                        cv=5, \n",
        "                                                        scoring=None))\n",
        "      scores.append(score)\n",
        "    scores, population = np.array(scores), np.array(population) \n",
        "    inds = np.argsort(scores)\n",
        "    print(-1*scores[inds[0]])\n",
        "    #print(population[inds[0]])\n",
        "    return list(scores[inds]), list(population[inds,:])\n",
        "  \n",
        "  \n",
        "  def select(self, population_sorted):\n",
        "    population_next = []\n",
        "    for i in range(self.n_best):\n",
        "      population_next.append(population_sorted[i])\n",
        "    for i in range(self.n_rand):\n",
        "      population_next.append(random.choice(population_sorted))\n",
        "    random.shuffle(population_next)\n",
        "    return population_next\n",
        "  \n",
        "  \n",
        "  def crossover(self, population):\n",
        "    population_next = []\n",
        "    for i in range(int(len(population)/2)):\n",
        "      for j in range(self.n_children):\n",
        "        #print(i)\n",
        "        chromosome1, chromosome2 = population[i], population[len(population)-1-j]\n",
        "        #print(type(chromosome2))\n",
        "        child = chromosome1\n",
        "        mask = np.random.rand(len(child)) > 0.5\n",
        "        for k in range(len(mask)):\n",
        "          if(mask[k] == True):\n",
        "            child[k]=chromosome2[k]\n",
        "        population_next.append(child)\n",
        "    return population_next\n",
        "  \n",
        "  \n",
        "  def mutate(self, population):\n",
        "    population_next = []\n",
        "    for i in range(len(population)):\n",
        "      chromosome = population[i]\n",
        "      if random.random() < self.mutation_rate:\n",
        "        mask = np.random.rand(len(chromosome)) < 0.05\n",
        "        for k in range(len(mask)):\n",
        "          if(mask[k]==True):\n",
        "            chromosome[k] = False\n",
        "      population_next.append(chromosome)\n",
        "    return population_next  \n",
        "  \n",
        "  \n",
        "  def generate(self, population):\n",
        "    # Selection, crossover and mutation\n",
        "    scores_sorted, population_sorted = self.fitness(population)\n",
        "    #print(type(population_sorted[1]))\n",
        "    population = self.select(population_sorted)\n",
        "    #print(type(population[3]))\n",
        "    population = self.crossover(population)\n",
        "    #print(len(population))\n",
        "    population = self.mutate(population)\n",
        "    #print(len(population))\n",
        "    # History\n",
        "    self.chromosomes_best.append(population_sorted[0])\n",
        "    self.scores_best.append(scores_sorted[0])\n",
        "    self.scores_avg.append(np.mean(scores_sorted))\n",
        "    return population\n",
        "  \n",
        "  \n",
        "  def fit(self, X, y):\n",
        "    self.chromosomes_best = []\n",
        "    self.scores_best, self.scores_avg  = [], []\n",
        "    self.dataset = X, y\n",
        "    self.n_features = X.shape[1]\n",
        "    population = self.initilize()\n",
        "    for i in range(self.n_gen):\n",
        "      population = self.generate(population)\n",
        "    return self \n",
        "    \n",
        "  @property\n",
        "  \n",
        "  \n",
        "  def support_(self):\n",
        "      return self.chromosomes_best[-1]\n",
        " \n",
        "  \n",
        "  def plot_scores(self):\n",
        "      plt.plot(self.scores_best, label='Best')\n",
        "      plt.plot(self.scores_avg, label='Average')\n",
        "      plt.legend()\n",
        "      plt.ylabel('Scores')\n",
        "      plt.xlabel('Generation')\n",
        "      plt.show()\n",
        "  \n",
        "  def ret_pop(self):\n",
        "    return self.chromosomes_best \n",
        "  "
      ],
      "execution_count": 0,
      "outputs": []
    },
    {
      "cell_type": "code",
      "metadata": {
        "id": "rejhSRnSS-z7",
        "colab_type": "code",
        "colab": {}
      },
      "source": [
        "def initilize(self):\n",
        "  population = []\n",
        "  for i in range(self.size):\n",
        "    chromosome = np.ones(self.n_features, dtype=np.bool)\n",
        "    mask = np.random.rand(len(chromosome)) < 0.3 #The probability 0.3 is chosen arbitrarily, however it is suggested to avoid large probabilities. We would not like to create chromosomes with all variables excluded\n",
        "    chromosome[mask] = False\n",
        "    population.append(chromosome)\n",
        "    return population"
      ],
      "execution_count": 0,
      "outputs": []
    },
    {
      "cell_type": "code",
      "metadata": {
        "id": "AHzASH7rTq2j",
        "colab_type": "code",
        "colab": {}
      },
      "source": [
        "def fitness(self, population):\n",
        "  X, y = self.dataset\n",
        "  scores = []\n",
        "  for chromosome in population:\n",
        "    score = -1.0 * np.mean(cross_val_score(self.estimator, X[:,chromosome], y, \n",
        "                                                        cv=5, \n",
        "                                                        scoring=\"neg_mean_squared_error\"))\n",
        "    scores.append(score)\n",
        "  scores, population = np.array(scores), np.array(population) \n",
        "  inds = np.argsort(scores)\n",
        "  print(scores[-1])\n",
        "  return list(scores[inds]), list(population[inds,:])"
      ],
      "execution_count": 0,
      "outputs": []
    },
    {
      "cell_type": "code",
      "metadata": {
        "id": "wuYZWDcDVZ6G",
        "colab_type": "code",
        "colab": {}
      },
      "source": [
        "def select(self, population_sorted):\n",
        "  population_next = []\n",
        "  for i in range(self.n_best):\n",
        "    population_next.append(population_sorted)\n",
        "  for i in range(self.n_rand):\n",
        "    population_next.append(random.choice(population_sorted))\n",
        "  random.shuffle(population_next)\n",
        "  return population_next\n"
      ],
      "execution_count": 0,
      "outputs": []
    },
    {
      "cell_type": "code",
      "metadata": {
        "id": "vgfQ7ZoXViNX",
        "colab_type": "code",
        "colab": {}
      },
      "source": [
        "def crossover(self, population):\n",
        "  population_next = []\n",
        "  for i in range(int(len(population)/2)):\n",
        "    for j in range(self.n_children):\n",
        "      chromosome1, chromosome2 = population[i], population[len(population)-1-i]\n",
        "      child = chromosome1\n",
        "      mask = np.random.rand(len(child)) > 0.5\n",
        "      child[mask] = chromosome2[mask]\n",
        "      population_next.append(child)\n",
        "  return population_next"
      ],
      "execution_count": 0,
      "outputs": []
    },
    {
      "cell_type": "code",
      "metadata": {
        "id": "wwU27BGETQhk",
        "colab_type": "code",
        "colab": {}
      },
      "source": [
        "def mutate(self, population):\n",
        "  population_next = []\n",
        "  for i in range(len(population)):\n",
        "    chromosome = population[i]\n",
        "    if random.random() < self.mutation_rate:\n",
        "      mask = np.random.rand(len(chromosome)) < 0.05\n",
        "      chromosome[mask] = False\n",
        "      population_next.append(chromosome)\n",
        "  return population_next"
      ],
      "execution_count": 0,
      "outputs": []
    },
    {
      "cell_type": "code",
      "metadata": {
        "id": "7TzBfXYNT6OC",
        "colab_type": "code",
        "colab": {}
      },
      "source": [
        "def generate(self, population):\n",
        "# Selection, crossover and mutation\n",
        "  scores_sorted, population_sorted = self.fitness(population)\n",
        "  population = self.select(population_sorted)\n",
        "  population = self.crossover(population)\n",
        "  population = self.mutate(population)\n",
        "  # History\n",
        "  self.chromosomes_best.append(population_sorted[0])\n",
        "  self.scores_best.append(scores_sorted[0])\n",
        "  self.scores_avg.append(np.mean(scores_sorted))\n",
        "  return population"
      ],
      "execution_count": 0,
      "outputs": []
    },
    {
      "cell_type": "code",
      "metadata": {
        "id": "opTJL4KrYehZ",
        "colab_type": "code",
        "colab": {}
      },
      "source": [
        "def fit(self, X, y):\n",
        "  self.chromosomes_best = []\n",
        "  self.scores_best, self.scores_avg  = [], []\n",
        "  self.dataset = x_train, y_train\n",
        "  self.n_features = x_train.shape[1]\n",
        "  population = self.initilize()\n",
        "  for i in range(self.n_gen):\n",
        "    population = self.generate(population)\n",
        "    return self \n",
        "    \n",
        "  @property\n",
        "  def support_(self):\n",
        "    return self.chromosomes_best[-1]\n",
        " \n",
        "  def plot_scores(self):\n",
        "    plt.plot(-1*self.scores_best, label='Best')\n",
        "    plt.plot(-1*self.scores_avg, label='Average')\n",
        "    plt.legend()\n",
        "    plt.ylabel('Scores')\n",
        "    plt.xlabel('Generation')\n",
        "    plt.show()"
      ],
      "execution_count": 0,
      "outputs": []
    },
    {
      "cell_type": "code",
      "metadata": {
        "id": "rlKIIz2kZspq",
        "colab_type": "code",
        "outputId": "366a898a-1c38-46bf-80a6-3e4b1be769e4",
        "colab": {
          "base_uri": "https://localhost:8080/",
          "height": 806
        }
      },
      "source": [
        "selector = GeneticSelector(estimator=svr, \n",
        "                      n_gen=30, size=100, n_best=20, n_rand=20, \n",
        "                      n_children=5, mutation_rate=0.05)\n",
        "selector.fit(x, y)\n",
        "selector.plot_scores()\n",
        "score = cross_val_score(svr, x[:,selector.support_], y, cv=5, scoring=None)\n",
        "print(\"Score after feature selection: {:.2f}\".format(np.mean(score)))"
      ],
      "execution_count": 143,
      "outputs": [
        {
          "output_type": "stream",
          "text": [
            "0.831695170961585\n",
            "0.8089417058244273\n",
            "0.7943322059189932\n",
            "0.7778254779962502\n",
            "0.7257127217165569\n",
            "0.7313389571264592\n",
            "0.7746269702422346\n",
            "0.787252338262333\n",
            "0.7883674293265114\n",
            "0.8229055450256493\n",
            "0.8287421506591718\n",
            "0.8276914725683454\n",
            "0.8287695711754532\n",
            "0.8286424381577069\n",
            "0.8344518249009015\n",
            "0.8430115334554008\n",
            "0.8414124856805142\n",
            "0.8459803560285353\n",
            "0.834763194817784\n",
            "0.8416608613849104\n",
            "0.8288704103739379\n",
            "0.830485719443342\n",
            "0.8364639789309527\n",
            "0.8372094871383606\n",
            "0.8397858604276125\n",
            "0.8329155067515808\n",
            "0.8346175993582831\n",
            "0.837242135770769\n",
            "0.847951689920776\n",
            "0.8358161300992609\n"
          ],
          "name": "stdout"
        },
        {
          "output_type": "display_data",
          "data": {
            "image/png": "[encoded data removed]",
            "text/plain": [
              "<Figure size 432x288 with 1 Axes>"
            ]
          },
          "metadata": {
            "tags": [],
            "needs_background": "light"
          }
        },
        {
          "output_type": "stream",
          "text": [
            "Score after feature selection: 0.84\n"
          ],
          "name": "stdout"
        }
      ]
    },
    {
      "cell_type": "code",
      "metadata": {
        "id": "vbrhe2GA6aKt",
        "colab_type": "code",
        "outputId": "a506378d-6949-4a9e-acca-972b7e8f61d9",
        "colab": {
          "base_uri": "https://localhost:8080/",
          "height": 279
        }
      },
      "source": [
        "populati=selector.ret_pop()\n",
        "\n",
        "selector.plot_scores()"
      ],
      "execution_count": 144,
      "outputs": [
        {
          "output_type": "display_data",
          "data": {
            "image/png": "[encoded data removed]",
            "text/plain": [
              "<Figure size 432x288 with 1 Axes>"
            ]
          },
          "metadata": {
            "tags": [],
            "needs_background": "light"
          }
        }
      ]
    },
    {
      "cell_type": "code",
      "metadata": {
        "id": "RwDhIS3-zusr",
        "colab_type": "code",
        "outputId": "86e6b192-8c12-47ae-9fbf-f4e328731dc2",
        "colab": {
          "base_uri": "https://localhost:8080/",
          "height": 34
        }
      },
      "source": [
        "len(populati)\n"
      ],
      "execution_count": 145,
      "outputs": [
        {
          "output_type": "execute_result",
          "data": {
            "text/plain": [
              "30"
            ]
          },
          "metadata": {
            "tags": []
          },
          "execution_count": 145
        }
      ]
    },
    {
      "cell_type": "code",
      "metadata": {
        "id": "YPM1utGH6c5G",
        "colab_type": "code",
        "outputId": "61d4a93f-875c-4ea9-95c7-5c74acea387a",
        "colab": {
          "base_uri": "https://localhost:8080/",
          "height": 527
        }
      },
      "source": [
        "for i in range(len(populati)):\n",
        "  count=0\n",
        "  for j in range(len(x[0])):\n",
        "    if(populati[i][j]==True):\n",
        "      count=count+1\n",
        "  print(\"features selected in \",(i+1),\" th generation =\",count)\n"
      ],
      "execution_count": 146,
      "outputs": [
        {
          "output_type": "stream",
          "text": [
            "features selected in  1  th generation = 459\n",
            "features selected in  2  th generation = 510\n",
            "features selected in  3  th generation = 502\n",
            "features selected in  4  th generation = 495\n",
            "features selected in  5  th generation = 488\n",
            "features selected in  6  th generation = 488\n",
            "features selected in  7  th generation = 478\n",
            "features selected in  8  th generation = 480\n",
            "features selected in  9  th generation = 481\n",
            "features selected in  10  th generation = 420\n",
            "features selected in  11  th generation = 443\n",
            "features selected in  12  th generation = 450\n",
            "features selected in  13  th generation = 453\n",
            "features selected in  14  th generation = 453\n",
            "features selected in  15  th generation = 416\n",
            "features selected in  16  th generation = 420\n",
            "features selected in  17  th generation = 442\n",
            "features selected in  18  th generation = 438\n",
            "features selected in  19  th generation = 422\n",
            "features selected in  20  th generation = 436\n",
            "features selected in  21  th generation = 431\n",
            "features selected in  22  th generation = 434\n",
            "features selected in  23  th generation = 432\n",
            "features selected in  24  th generation = 434\n",
            "features selected in  25  th generation = 410\n",
            "features selected in  26  th generation = 419\n",
            "features selected in  27  th generation = 406\n",
            "features selected in  28  th generation = 402\n",
            "features selected in  29  th generation = 378\n",
            "features selected in  30  th generation = 389\n"
          ],
          "name": "stdout"
        }
      ]
    },
    {
      "cell_type": "code",
      "metadata": {
        "id": "vjoxnUfx6c1U",
        "colab_type": "code",
        "colab": {}
      },
      "source": [
        "for j in range(650,700):\n",
        "  populati[0][j]=True"
      ],
      "execution_count": 0,
      "outputs": []
    },
    {
      "cell_type": "code",
      "metadata": {
        "id": "TIru1URLigKy",
        "colab_type": "code",
        "colab": {}
      },
      "source": [
        "score = np.mean(cross_val_score(svr, x[:,populati[0]], y, cv=5, scoring=None))"
      ],
      "execution_count": 0,
      "outputs": []
    },
    {
      "cell_type": "code",
      "metadata": {
        "id": "SmZMAMdrccnP",
        "colab_type": "code",
        "outputId": "94f93d57-2d51-417b-9206-879484f9fbeb",
        "colab": {
          "base_uri": "https://localhost:8080/",
          "height": 34
        }
      },
      "source": [
        "score"
      ],
      "execution_count": 149,
      "outputs": [
        {
          "output_type": "execute_result",
          "data": {
            "text/plain": [
              "0.6880336378061291"
            ]
          },
          "metadata": {
            "tags": []
          },
          "execution_count": 149
        }
      ]
    },
    {
      "cell_type": "code",
      "metadata": {
        "id": "UoOpHrTz4LiX",
        "colab_type": "code",
        "colab": {
          "base_uri": "https://localhost:8080/",
          "height": 34
        },
        "outputId": "5aef63e6-e35f-444a-cf6d-61ccf63bfdf9"
      },
      "source": [
        "x_train.shape"
      ],
      "execution_count": 150,
      "outputs": [
        {
          "output_type": "execute_result",
          "data": {
            "text/plain": [
              "(100, 700)"
            ]
          },
          "metadata": {
            "tags": []
          },
          "execution_count": 150
        }
      ]
    },
    {
      "cell_type": "code",
      "metadata": {
        "id": "5qVfdaYlB5Su",
        "colab_type": "code",
        "colab": {}
      },
      "source": [
        "population = []\n",
        "for i in range(200):\n",
        "  chromosome = np.ones(700, dtype=np.bool)\n",
        "  mask = np.random.rand(len(chromosome)) < 0.3 #The probability 0.3 is chosen arbitrarily, however it is suggested to avoid large probabilities. We would not like to create chromosomes with all variables excluded\n",
        "  chromosome[mask] = False\n",
        "  population.append(chromosome)"
      ],
      "execution_count": 0,
      "outputs": []
    },
    {
      "cell_type": "code",
      "metadata": {
        "id": "eD-6TOTMED9-",
        "colab_type": "code",
        "colab": {}
      },
      "source": [
        "population = np.array(population)\n",
        "pop=list(population[[0,1,2]])"
      ],
      "execution_count": 0,
      "outputs": []
    },
    {
      "cell_type": "code",
      "metadata": {
        "id": "B3WdXFtkEGDg",
        "colab_type": "code",
        "colab": {
          "base_uri": "https://localhost:8080/",
          "height": 330
        },
        "outputId": "8faa6e5f-9152-4791-be91-db82f3594152"
      },
      "source": [
        "sel = GeneticSelector(estimator=svr, \n",
        "                      n_gen=2, size=200, n_best=40, n_rand=40, \n",
        "                      n_children=5, mutation_rate=0.05)\n",
        "sel.fit(x, y.ravel())\n",
        "sel.plot_scores()\n",
        "score = cross_val_score(svr, x[:,sel.support_], y, cv=5, scoring=None)\n",
        "print(\"Score after feature selection: {:.2f}\".format(np.mean(score)))"
      ],
      "execution_count": 153,
      "outputs": [
        {
          "output_type": "stream",
          "text": [
            "0.8185703064554675\n",
            "0.8323329655859222\n"
          ],
          "name": "stdout"
        },
        {
          "output_type": "display_data",
          "data": {
            "image/png": "[encoded data removed]",
            "text/plain": [
              "<Figure size 432x288 with 1 Axes>"
            ]
          },
          "metadata": {
            "tags": [],
            "needs_background": "light"
          }
        },
        {
          "output_type": "stream",
          "text": [
            "Score after feature selection: 0.72\n"
          ],
          "name": "stdout"
        }
      ]
    },
    {
      "cell_type": "code",
      "metadata": {
        "id": "zPi_StgP6pWm",
        "colab_type": "code",
        "colab": {}
      },
      "source": [
        "lst = []\n",
        "columns = list(data.columns)\n",
        "support = list(sel.support_)\n",
        "for i in range(len(support)):\n",
        "  if support[i] == False:\n",
        "    lst.append(columns[i]) "
      ],
      "execution_count": 0,
      "outputs": []
    },
    {
      "cell_type": "code",
      "metadata": {
        "id": "DU6SPM3nB-pH",
        "colab_type": "code",
        "colab": {
          "base_uri": "https://localhost:8080/",
          "height": 1000
        },
        "outputId": "8c81a718-8b34-4550-dbb3-33e5d0cffd6b"
      },
      "source": [
        "lst"
      ],
      "execution_count": 157,
      "outputs": [
        {
          "output_type": "execute_result",
          "data": {
            "text/plain": [
              "['facebook_post_id',\n",
              " 'dominant_color.histogram[0]',\n",
              " 'dominant_color.histogram[1]',\n",
              " 'dominant_color.histogram[4]',\n",
              " 'dominant_color.histogram[8]',\n",
              " 'face_detection.average_face_present',\n",
              " 'general.duration',\n",
              " 'general.frame_size.width',\n",
              " 'other.average_movie_speed',\n",
              " 'shot_detection.shots_count',\n",
              " 'text_detection.average_text2frame_ratio',\n",
              " 'title.sentiment',\n",
              " 'views.2',\n",
              " 'comments.2',\n",
              " 'likes.2',\n",
              " 'shares.4',\n",
              " 'views.5',\n",
              " 'comments.5',\n",
              " 'shares.8',\n",
              " 'comments.8',\n",
              " 'shares.9',\n",
              " 'likes.9',\n",
              " 'shares.10',\n",
              " 'shares.11',\n",
              " 'comments.11',\n",
              " 'views.12',\n",
              " 'likes.13',\n",
              " 'comments.14',\n",
              " 'views.15',\n",
              " 'views.16',\n",
              " 'shares.16',\n",
              " 'likes.16',\n",
              " 'shares.17',\n",
              " 'comments.17',\n",
              " 'views.19',\n",
              " 'comments.19',\n",
              " 'likes.19',\n",
              " 'views.20',\n",
              " 'shares.20',\n",
              " 'likes.20',\n",
              " 'comments.21',\n",
              " 'likes.21',\n",
              " 'views.22',\n",
              " 'likes.22',\n",
              " 'shares.23',\n",
              " 'comments.23',\n",
              " 'shares.24',\n",
              " 'views.25',\n",
              " 'comments.26',\n",
              " 'views.27',\n",
              " 'shares.28',\n",
              " 'likes.29',\n",
              " 'shares.30',\n",
              " 'comments.30',\n",
              " 'shares.31',\n",
              " 'comments.31',\n",
              " 'shares.32',\n",
              " 'likes.32',\n",
              " 'views.33',\n",
              " 'likes.33',\n",
              " 'shares.35',\n",
              " 'comments.35',\n",
              " 'views.36',\n",
              " 'views.38',\n",
              " 'shares.39',\n",
              " 'shares.42',\n",
              " 'comments.42',\n",
              " 'comments.44',\n",
              " 'likes.44',\n",
              " 'shares.45',\n",
              " 'shares.47',\n",
              " 'views.48',\n",
              " 'views.49',\n",
              " 'comments.49',\n",
              " 'views.50',\n",
              " 'shares.50',\n",
              " 'comments.50',\n",
              " 'shares.51',\n",
              " 'views.52',\n",
              " 'shares.52',\n",
              " 'views.53',\n",
              " 'shares.53',\n",
              " 'comments.53',\n",
              " 'likes.53',\n",
              " 'comments.54',\n",
              " 'likes.54',\n",
              " 'comments.55',\n",
              " 'views.56',\n",
              " 'comments.56',\n",
              " 'comments.57',\n",
              " 'comments.58',\n",
              " 'views.59',\n",
              " 'likes.59',\n",
              " 'shares.60',\n",
              " 'shares.61',\n",
              " 'comments.61',\n",
              " 'views.62',\n",
              " 'shares.62',\n",
              " 'comments.62',\n",
              " 'comments.63',\n",
              " 'shares.64',\n",
              " 'comments.64',\n",
              " 'views.66',\n",
              " 'comments.66',\n",
              " 'likes.66',\n",
              " 'shares.68',\n",
              " 'comments.70',\n",
              " 'likes.70',\n",
              " 'likes.71',\n",
              " 'views.72',\n",
              " 'shares.72',\n",
              " 'likes.74',\n",
              " 'likes.75',\n",
              " 'views.76',\n",
              " 'shares.76',\n",
              " 'comments.76',\n",
              " 'shares.77',\n",
              " 'likes.79',\n",
              " 'shares.80',\n",
              " 'views.81',\n",
              " 'shares.81',\n",
              " 'comments.81',\n",
              " 'comments.82',\n",
              " 'comments.83',\n",
              " 'likes.83',\n",
              " 'views.84',\n",
              " 'shares.84',\n",
              " 'shares.85',\n",
              " 'likes.87',\n",
              " 'shares.88',\n",
              " 'likes.88',\n",
              " 'shares.89',\n",
              " 'likes.90',\n",
              " 'views.91',\n",
              " 'shares.91',\n",
              " 'comments.91',\n",
              " 'views.93',\n",
              " 'shares.93',\n",
              " 'comments.93',\n",
              " 'comments.94',\n",
              " 'shares.95',\n",
              " 'shares.96',\n",
              " 'shares.97',\n",
              " 'shares.98',\n",
              " 'likes.98',\n",
              " 'likes.99',\n",
              " 'comments.100',\n",
              " 'shares.101',\n",
              " 'comments.101',\n",
              " 'views.102',\n",
              " 'shares.102',\n",
              " 'comments.104',\n",
              " 'views.105',\n",
              " 'shares.105',\n",
              " 'shares.106',\n",
              " 'comments.106',\n",
              " 'comments.108',\n",
              " 'likes.110',\n",
              " 'views.111',\n",
              " 'likes.111',\n",
              " 'views.113',\n",
              " 'likes.113',\n",
              " 'views.115',\n",
              " 'views.116',\n",
              " 'views.117',\n",
              " 'views.119',\n",
              " 'comments.119',\n",
              " 'comments.121',\n",
              " 'likes.121',\n",
              " 'views.123',\n",
              " 'shares.123',\n",
              " 'comments.123',\n",
              " 'likes.123',\n",
              " 'shares.124',\n",
              " 'likes.124',\n",
              " 'likes.125',\n",
              " 'views.126',\n",
              " 'views.127',\n",
              " 'comments.127',\n",
              " 'likes.127',\n",
              " 'likes.128',\n",
              " 'likes.129',\n",
              " 'views.130',\n",
              " 'shares.130',\n",
              " 'comments.130',\n",
              " 'comments.131',\n",
              " 'likes.131',\n",
              " 'likes.132',\n",
              " 'likes.133',\n",
              " 'shares.134',\n",
              " 'views.135',\n",
              " 'shares.135',\n",
              " 'comments.135',\n",
              " 'shares.137',\n",
              " 'likes.137',\n",
              " 'comments.138',\n",
              " 'shares.140',\n",
              " 'likes.140',\n",
              " 'shares.141',\n",
              " 'comments.142',\n",
              " 'likes.142',\n",
              " 'comments.143',\n",
              " 'views.144',\n",
              " 'views.145',\n",
              " 'shares.145',\n",
              " 'views.146',\n",
              " 'views.147',\n",
              " 'shares.147',\n",
              " 'comments.147',\n",
              " 'shares.148',\n",
              " 'comments.148',\n",
              " 'likes.149',\n",
              " 'shares.150',\n",
              " 'comments.150',\n",
              " 'likes.150',\n",
              " 'comments.151',\n",
              " 'views.152',\n",
              " 'views.155',\n",
              " 'comments.155',\n",
              " 'likes.155',\n",
              " 'shares.157',\n",
              " 'comments.157',\n",
              " 'shares.158',\n",
              " 'shares.159',\n",
              " 'comments.159',\n",
              " 'likes.159',\n",
              " 'likes.160',\n",
              " 'comments.162',\n",
              " 'shares.163',\n",
              " 'comments.163',\n",
              " 'likes.164',\n",
              " 'views.166',\n",
              " 'shares.166',\n",
              " 'likes.166',\n",
              " 'shares.168']"
            ]
          },
          "metadata": {
            "tags": []
          },
          "execution_count": 157
        }
      ]
    },
    {
      "cell_type": "code",
      "metadata": {
        "id": "1OMcETso6vqE",
        "colab_type": "code",
        "colab": {}
      },
      "source": [
        "ans = data.drop(lst,axis=1)"
      ],
      "execution_count": 0,
      "outputs": []
    },
    {
      "cell_type": "code",
      "metadata": {
        "id": "_k_sH4LFBlxF",
        "colab_type": "code",
        "colab": {
          "base_uri": "https://localhost:8080/",
          "height": 34
        },
        "outputId": "2b75ffd2-06f7-4708-890f-73f6bb5940f5"
      },
      "source": [
        "ans.shape"
      ],
      "execution_count": 159,
      "outputs": [
        {
          "output_type": "execute_result",
          "data": {
            "text/plain": [
              "(1820, 467)"
            ]
          },
          "metadata": {
            "tags": []
          },
          "execution_count": 159
        }
      ]
    },
    {
      "cell_type": "code",
      "metadata": {
        "id": "LqTrmxsKDgLv",
        "colab_type": "code",
        "colab": {}
      },
      "source": [
        "ans.to_csv('after_ga.csv', index=False)\n"
      ],
      "execution_count": 0,
      "outputs": []
    },
    {
      "cell_type": "code",
      "metadata": {
        "id": "vKdvrovqD0_t",
        "colab_type": "code",
        "colab": {}
      },
      "source": [
        "from google.colab import files\n",
        "\n",
        "files.download('after_ga.csv')"
      ],
      "execution_count": 0,
      "outputs": []
    },
    {
      "cell_type": "code",
      "metadata": {
        "id": "8cWcBK_77UbU",
        "colab_type": "code",
        "colab": {}
      },
      "source": [
        "x_train"
      ],
      "execution_count": 0,
      "outputs": []
    },
    {
      "cell_type": "code",
      "metadata": {
        "id": "ZlS6zip8FsmH",
        "colab_type": "code",
        "colab": {}
      },
      "source": [
        "import numpy as np\n",
        "child =np.array([1,0,1,0,1,1,1,1,0])\n",
        "mask = np.random.rand(len(child))>.5\n",
        "ghp=[1,0,1,0,0,0,0,0,1]\n",
        "for i in range(len(mask)):\n",
        "  if(mask[i]==True):\n",
        "    child[i]=ghp[i]"
      ],
      "execution_count": 0,
      "outputs": []
    },
    {
      "cell_type": "code",
      "metadata": {
        "id": "9_4x-M0lrkpb",
        "colab_type": "code",
        "colab": {}
      },
      "source": [
        "child"
      ],
      "execution_count": 0,
      "outputs": []
    },
    {
      "cell_type": "code",
      "metadata": {
        "id": "XnTNaaoUQuVZ",
        "colab_type": "code",
        "colab": {}
      },
      "source": [
        "cgf=[9,8,7]\n",
        "np.argsort(cgf)"
      ],
      "execution_count": 0,
      "outputs": []
    },
    {
      "cell_type": "code",
      "metadata": {
        "id": "nPInmXYoXaEF",
        "colab_type": "code",
        "colab": {}
      },
      "source": [
        "np.random.rand(900)<.3"
      ],
      "execution_count": 0,
      "outputs": []
    },
    {
      "cell_type": "code",
      "metadata": {
        "id": "veh-m95qqkU-",
        "colab_type": "code",
        "colab": {}
      },
      "source": [
        ""
      ],
      "execution_count": 0,
      "outputs": []
    }
  ]
}